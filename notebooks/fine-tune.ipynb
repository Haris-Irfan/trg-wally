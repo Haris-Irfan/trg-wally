{
 "cells": [
  {
   "cell_type": "markdown",
   "metadata": {
    "vscode": {
     "languageId": "plaintext"
    }
   },
   "source": [
    "### OpenAI Fine-Tuning API\n",
    "Detailed process of how I will be using OpenAI fine-tuning API for Wally."
   ]
  },
  {
   "cell_type": "code",
   "execution_count": 5,
   "metadata": {},
   "outputs": [],
   "source": [
    "# Import necessary libraries\n",
    "import os\n",
    "from dotenv import load_dotenv\n",
    "from openai import OpenAI\n",
    "\n",
    "# Load the environment variables\n",
    "load_dotenv()\n",
    "\n",
    "# Create instance of OpenAI\n",
    "client = OpenAI(api_key=os.getenv(\"OPENAI_API_KEY\"))"
   ]
  },
  {
   "cell_type": "code",
   "execution_count": 34,
   "metadata": {},
   "outputs": [],
   "source": [
    "# Data setup\n",
    "data_folder = \"../data/processed/empathetic-conversational-model\"\n",
    "training_file_name = os.path.join(data_folder, \"train.jsonl\")\n",
    "# validation_file_name = os.path.join(data_folder, \"validation.jsonl\")"
   ]
  },
  {
   "cell_type": "markdown",
   "metadata": {},
   "source": [
    "## Upload files\n",
    "Use `client.files.create()` method from OpenAI Files API to upload training file (for now only training, no validation) to OpenAI API. Afterwards, store returned File object ID for reference."
   ]
  },
  {
   "cell_type": "code",
   "execution_count": 43,
   "metadata": {},
   "outputs": [
    {
     "name": "stdout",
     "output_type": "stream",
     "text": [
      "Training file ID: file-HsvVQZSpcSQE6TrRyVaVwB\n"
     ]
    }
   ],
   "source": [
    "training_file = client.files.create(\n",
    "    file=open(training_file_name, \"rb\"),\n",
    "    purpose=\"fine-tune\",\n",
    ")\n",
    "\n",
    "training_file_id = training_file.id\n",
    "print(f\"Training file ID: {training_file_id}\")"
   ]
  },
  {
   "cell_type": "markdown",
   "metadata": {},
   "source": [
    "## Create fine-tuning job\n",
    "Use the `client.fine_tuning.jobs.create()` method to create a fine-tuning job"
   ]
  },
  {
   "cell_type": "code",
   "execution_count": 44,
   "metadata": {},
   "outputs": [
    {
     "name": "stdout",
     "output_type": "stream",
     "text": [
      "Job ID: ftjob-QpkaFQN3Q5OP7YZ0Ir1YTL6k\n",
      "Job status: validating_files\n"
     ]
    }
   ],
   "source": [
    "job = client.fine_tuning.jobs.create(\n",
    "    training_file=training_file_id,\n",
    "    model=\"gpt-4o-mini-2024-07-18\",\n",
    "    suffix=\"wally\",\n",
    ")\n",
    "\n",
    "job_id = job.id\n",
    "\n",
    "print(f\"Job ID: {job_id}\")\n",
    "print(f\"Job status: {job.status}\")"
   ]
  },
  {
   "cell_type": "markdown",
   "metadata": {},
   "source": [
    "## Check Job Status\n",
    "Check status using `client.fine_tuning.jobs.retrieve() ` method, which takes in job ID."
   ]
  },
  {
   "cell_type": "code",
   "execution_count": 49,
   "metadata": {},
   "outputs": [
    {
     "name": "stdout",
     "output_type": "stream",
     "text": [
      "Job ID: ftjob-QpkaFQN3Q5OP7YZ0Ir1YTL6k\n",
      "Job status: running\n",
      "Model: gpt-4o-mini-2024-07-18\n",
      "Trained Tokens: None\n"
     ]
    }
   ],
   "source": [
    "retrieve_response = client.fine_tuning.jobs.retrieve(job_id)\n",
    "\n",
    "print(f\"Job ID: {retrieve_response.id}\")\n",
    "print(f\"Job status: {retrieve_response.status}\")\n",
    "print(f\"Model: {retrieve_response.model}\")\n",
    "print(f\"Trained Tokens: {retrieve_response.trained_tokens}\")"
   ]
  },
  {
   "cell_type": "markdown",
   "metadata": {},
   "source": [
    "List events of the job using the `client.fine_tuning.jobs.list_events()` method. Returns a list of events associated with the job."
   ]
  },
  {
   "cell_type": "code",
   "execution_count": 50,
   "metadata": {},
   "outputs": [
    {
     "name": "stdout",
     "output_type": "stream",
     "text": [
      "Created fine-tuning job: ftjob-QpkaFQN3Q5OP7YZ0Ir1YTL6k\n",
      "Validating training file: file-HsvVQZSpcSQE6TrRyVaVwB\n",
      "Files validated, moving job to queued state\n",
      "Fine-tuning job started\n"
     ]
    }
   ],
   "source": [
    "response = client.fine_tuning.jobs.list_events(job_id)\n",
    "\n",
    "events = response.data\n",
    "events.reverse()\n",
    "\n",
    "for event in events:\n",
    "    print(event.message)"
   ]
  }
 ],
 "metadata": {
  "kernelspec": {
   "display_name": "Wally venv",
   "language": "python",
   "name": "trg_wally_venv"
  },
  "language_info": {
   "codemirror_mode": {
    "name": "ipython",
    "version": 3
   },
   "file_extension": ".py",
   "mimetype": "text/x-python",
   "name": "python",
   "nbconvert_exporter": "python",
   "pygments_lexer": "ipython3",
   "version": "3.13.2"
  }
 },
 "nbformat": 4,
 "nbformat_minor": 2
}
